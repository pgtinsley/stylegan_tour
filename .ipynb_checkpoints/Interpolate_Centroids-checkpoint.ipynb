{
 "cells": [
  {
   "cell_type": "code",
   "execution_count": 1,
   "metadata": {},
   "outputs": [],
   "source": [
    "# Imports\n",
    "import cv2\n",
    "import glob\n",
    "import random\n",
    "import pandas as pd\n",
    "import statistics\n",
    "\n",
    "# Ignore warnings\n",
    "import warnings\n",
    "warnings.filterwarnings('ignore')\n",
    "\n",
    "# Taken from pretrained_example.py\n",
    "import os\n",
    "import pickle\n",
    "import PIL.Image\n",
    "import numpy as np\n",
    "import dnnlib\n",
    "import dnnlib.tflib as tflib\n",
    "import config\n",
    "from encoder.generator_model import Generator\n",
    "\n",
    "# Off-the-shelf recognizer\n",
    "import face_recognition\n",
    "\n",
    "# Plotting\n",
    "import matplotlib.pyplot as plt\n",
    "%matplotlib inline\n",
    "\n",
    "from PIL import Image, ImageDraw, ImageFont\n",
    "\n",
    "from scipy.stats import shapiro, normaltest"
   ]
  },
  {
   "cell_type": "code",
   "execution_count": 2,
   "metadata": {},
   "outputs": [],
   "source": [
    "# Plot latent vectors of shape 18x512\n",
    "def generate_image(latent_vector, size=512):\n",
    "    latent_vector = latent_vector.reshape((1, 18, 512))\n",
    "    generator.set_dlatents(latent_vector)\n",
    "    img_array = generator.generate_images()[0]\n",
    "    img = PIL.Image.fromarray(img_array, 'RGB')\n",
    "    return img.resize((size, size))"
   ]
  },
  {
   "cell_type": "code",
   "execution_count": 3,
   "metadata": {},
   "outputs": [],
   "source": [
    "def setup():\n",
    "    tflib.init_tf()\n",
    "    # Load pre-trained network.\n",
    "    url = 'https://drive.google.com/uc?id=1MEGjdvVpUsu1jB4zrXZN7Y4kBBOzizDQ' # karras2019stylegan-ffhq-1024x1024.pkl\n",
    "    with dnnlib.util.open_url(url, cache_dir=config.cache_dir) as f:\n",
    "        _G, _D, Gs = pickle.load(f)\n",
    "    generator = Generator(Gs, batch_size=1, randomize_noise=False) # -- RUNNING >1 TIMES THROWS ERROR\n",
    "    fmt = dict(func=tflib.convert_images_to_uint8, nchw_to_nhwc=True)\n",
    "    return [_G, _D, Gs, generator, fmt]"
   ]
  },
  {
   "cell_type": "code",
   "execution_count": 4,
   "metadata": {},
   "outputs": [],
   "source": [
    "# Only run once.\n",
    "[_G, _D, Gs, generator, fmt] = setup()"
   ]
  },
  {
   "cell_type": "code",
   "execution_count": null,
   "metadata": {},
   "outputs": [],
   "source": []
  },
  {
   "cell_type": "markdown",
   "metadata": {},
   "source": [
    "### Question #1 \n",
    "Is the average/centroid of each subject's 4-tuple still recognizable as the same person?"
   ]
  },
  {
   "cell_type": "code",
   "execution_count": 5,
   "metadata": {},
   "outputs": [],
   "source": [
    "subjects = [s.split('/')[-1].split('_')[0] for s in glob.glob('./generated_images/*_centroid.png')]"
   ]
  },
  {
   "cell_type": "code",
   "execution_count": 6,
   "metadata": {},
   "outputs": [
    {
     "data": {
      "text/plain": [
       "'04549'"
      ]
     },
     "execution_count": 6,
     "metadata": {},
     "output_type": "execute_result"
    }
   ],
   "source": [
    "subjects[0]"
   ]
  },
  {
   "cell_type": "code",
   "execution_count": null,
   "metadata": {},
   "outputs": [],
   "source": [
    "# for subject in subjects:\n",
    "#     print(subject)\n",
    "#     lr_hr = glob.glob('./latent_representations/'+subject+'*_hr_*')\n",
    "#     print(lr_hr)\n",
    "#     lr_hr_c = np.load(lr_hr[0]) + np.load(lr_hr[1])\n",
    "#     lat_rep_lr = glob.glob('./latent_representations/'+subject+'*_lr_*')"
   ]
  },
  {
   "cell_type": "code",
   "execution_count": null,
   "metadata": {},
   "outputs": [],
   "source": [
    "# def get_match_rate(subject):\n",
    "#     gi_fnames = glob.glob('./generated_images/'+subject+'*.png')\n",
    "#     # gi_fnames\n",
    "#     c_enc = None\n",
    "#     gi_enc = []\n",
    "#     for fname in gi_fnames:\n",
    "#         img = np.array(Image.open(fname))\n",
    "#         enc = face_recognition.face_encodings(img)\n",
    "#         if len(enc)>0: enc = enc[0]\n",
    "#         else: enc = np.zeros(128,)\n",
    "#         if 'centroid' in fname: c_enc = enc\n",
    "#         else: gi_enc.append(enc)\n",
    "#     distances = face_recognition.compare_faces(gi_enc, c_enc)\n",
    "#     return sum(distances)/4"
   ]
  },
  {
   "cell_type": "code",
   "execution_count": null,
   "metadata": {},
   "outputs": [],
   "source": [
    "# match_rates = []\n",
    "# for subject in subjects:\n",
    "#     print(subject)\n",
    "#     match_rates.append(get_match_rate(subject))"
   ]
  },
  {
   "cell_type": "code",
   "execution_count": null,
   "metadata": {},
   "outputs": [],
   "source": [
    "# df_match_rates = pd.DataFrame(match_rates, index=subjects, columns=['match_rate'])\n",
    "# df_match_rates['match_rate'].value_counts()\n",
    "# df_match_rates.to_csv('df_match_rates.csv')"
   ]
  },
  {
   "cell_type": "code",
   "execution_count": 7,
   "metadata": {},
   "outputs": [
    {
     "data": {
      "text/html": [
       "<div>\n",
       "<style scoped>\n",
       "    .dataframe tbody tr th:only-of-type {\n",
       "        vertical-align: middle;\n",
       "    }\n",
       "\n",
       "    .dataframe tbody tr th {\n",
       "        vertical-align: top;\n",
       "    }\n",
       "\n",
       "    .dataframe thead th {\n",
       "        text-align: right;\n",
       "    }\n",
       "</style>\n",
       "<table border=\"1\" class=\"dataframe\">\n",
       "  <thead>\n",
       "    <tr style=\"text-align: right;\">\n",
       "      <th></th>\n",
       "      <th>Unnamed: 0</th>\n",
       "      <th>match_rate</th>\n",
       "    </tr>\n",
       "  </thead>\n",
       "  <tbody>\n",
       "    <tr>\n",
       "      <th>1</th>\n",
       "      <td>4561</td>\n",
       "      <td>0.0</td>\n",
       "    </tr>\n",
       "    <tr>\n",
       "      <th>28</th>\n",
       "      <td>4295</td>\n",
       "      <td>0.5</td>\n",
       "    </tr>\n",
       "  </tbody>\n",
       "</table>\n",
       "</div>"
      ],
      "text/plain": [
       "    Unnamed: 0  match_rate\n",
       "1         4561         0.0\n",
       "28        4295         0.5"
      ]
     },
     "execution_count": 7,
     "metadata": {},
     "output_type": "execute_result"
    }
   ],
   "source": [
    "# Looks like most (190/192) of the subjects have centroids that are \n",
    "# recognizable when compared to the other images in the 4-tuple.\n",
    "# What are the two exceptions to this:\n",
    "\n",
    "df_match_rates = pd.read_csv('df_match_rates.csv')\n",
    "df_match_rates[df_match_rates['match_rate']!=1.0]\n",
    "\n",
    "# 04561 -- 0 out of 4 images matched against the centroid image's encoding.\n",
    "# 04295 -- 2 out of 4 images matched against the centroid image's encoding."
   ]
  },
  {
   "cell_type": "code",
   "execution_count": null,
   "metadata": {},
   "outputs": [],
   "source": [
    "# gi_0 = glob.glob('./generated_images/04561*')\n",
    "# for fname in sorted(gi_0):\n",
    "#     img = np.array(Image.open(fname))\n",
    "#     plt.figure()\n",
    "#     plt.title(fname.split('/')[-1])\n",
    "#     plt.imshow(img)\n",
    "#     plt.show()"
   ]
  },
  {
   "cell_type": "code",
   "execution_count": null,
   "metadata": {},
   "outputs": [],
   "source": [
    "# gi_2 = glob.glob('./generated_images/04295*')\n",
    "# for fname in sorted(gi_2):\n",
    "#     img = np.array(Image.open(fname))\n",
    "#     plt.figure()\n",
    "#     plt.title(fname.split('/')[-1])\n",
    "#     plt.imshow(img)\n",
    "#     plt.show()"
   ]
  },
  {
   "cell_type": "code",
   "execution_count": null,
   "metadata": {},
   "outputs": [],
   "source": [
    "# What does this mean? \n",
    "# We can probably sample from anywhere along any interpolating lines between centroid\n",
    "# and one of the four images to get a new face of the same person.\n",
    "# Furthermore, we can probably sample anywhere within the quadrilaterial created by \n",
    "# these interpolating lines.\n",
    "# Let's test this out with PF."
   ]
  },
  {
   "cell_type": "markdown",
   "metadata": {},
   "source": [
    "#### Let's look at the centroids more in depth."
   ]
  },
  {
   "cell_type": "code",
   "execution_count": 8,
   "metadata": {},
   "outputs": [],
   "source": [
    "ci_fnames = glob.glob('./generated_images/*_centroid.png')"
   ]
  },
  {
   "cell_type": "code",
   "execution_count": 9,
   "metadata": {},
   "outputs": [
    {
     "name": "stdout",
     "output_type": "stream",
     "text": [
      "No encoding found for ./generated_images/04561_centroid.png\n"
     ]
    }
   ],
   "source": [
    "# ci_encs = []\n",
    "# for ci_fname in ci_fnames:\n",
    "#     img = Image.open(ci_fname)\n",
    "#     enc = face_recognition.face_encodings(np.array(img))\n",
    "#     if len(enc)>0: \n",
    "#         enc = enc[0]\n",
    "#     else: \n",
    "#         print('No encoding found for '+ci_fname)\n",
    "#         enc = np.zeros(128,)\n",
    "#     ci_encs.append(enc)"
   ]
  },
  {
   "cell_type": "code",
   "execution_count": null,
   "metadata": {},
   "outputs": [],
   "source": [
    "# with open('ci_encs.pkl', 'wb') as f:\n",
    "#     pickle.dump(ci_encs, f)"
   ]
  },
  {
   "cell_type": "code",
   "execution_count": 11,
   "metadata": {},
   "outputs": [],
   "source": [
    "# with open('ci_encs.pkl', 'rb') as f:\n",
    "#     ci_encs = pickle.load(f)"
   ]
  },
  {
   "cell_type": "code",
   "execution_count": 12,
   "metadata": {},
   "outputs": [],
   "source": [
    "ci_lr_fnames = glob.glob('./latent_representations/*_centroid.npy')"
   ]
  },
  {
   "cell_type": "code",
   "execution_count": 13,
   "metadata": {},
   "outputs": [],
   "source": [
    "ci_lr_vecs = []\n",
    "for ci_lr_fname in ci_lr_fnames:\n",
    "    ci_lr_vecs.append(np.load(ci_lr_fname))"
   ]
  },
  {
   "cell_type": "code",
   "execution_count": 50,
   "metadata": {},
   "outputs": [
    {
     "data": {
      "text/plain": [
       "(191, 191, 191, 191)"
      ]
     },
     "execution_count": 50,
     "metadata": {},
     "output_type": "execute_result"
    }
   ],
   "source": [
    "len(ci_fnames), len(ci_encs), len(ci_lr_fnames), len(ci_lr_vecs)"
   ]
  },
  {
   "cell_type": "code",
   "execution_count": 51,
   "metadata": {},
   "outputs": [],
   "source": [
    "# ci_fnames.pop(1)\n",
    "# ci_encs.pop(1) \n",
    "# ci_lr_fnames.pop(1) \n",
    "# ci_lr_vecs.pop(1)"
   ]
  },
  {
   "cell_type": "code",
   "execution_count": 152,
   "metadata": {},
   "outputs": [],
   "source": [
    "dist_ci_encs = []\n",
    "match_ci_encs = []\n",
    "for enc in ci_encs:\n",
    "    dist_ci_encs.append(face_recognition.face_distance(ci_encs, enc))\n",
    "    match_ci_encs.append(face_recognition.compare_faces(ci_encs, enc))"
   ]
  },
  {
   "cell_type": "code",
   "execution_count": 153,
   "metadata": {},
   "outputs": [],
   "source": [
    "dist_ci_lr_vecs = []\n",
    "for vec in ci_lr_vecs:\n",
    "    dist_ci_lr_vecs.append(np.linalg.norm(ci_lr_vecs - vec, axis=1))"
   ]
  },
  {
   "cell_type": "code",
   "execution_count": 154,
   "metadata": {},
   "outputs": [],
   "source": [
    "dist_ci_enc_25 = np.array([dist[0:25] for dist in dist_ci_encs[0:25]])"
   ]
  },
  {
   "cell_type": "code",
   "execution_count": 155,
   "metadata": {},
   "outputs": [],
   "source": [
    "match_ci_enc_25 = np.array([[int(b) for b in match_ci_encs[i][0:25]] for i in range(25)])"
   ]
  },
  {
   "cell_type": "code",
   "execution_count": 156,
   "metadata": {},
   "outputs": [
    {
     "data": {
      "image/png": "[encoded data removed]",
      "text/plain": [
       "<Figure size 648x216 with 4 Axes>"
      ]
     },
     "metadata": {
      "needs_background": "light"
     },
     "output_type": "display_data"
    }
   ],
   "source": [
    "fig, (ax1, ax2) = plt.subplots(1, 2, figsize=(9, 3))\n",
    "\n",
    "im1 = ax1.imshow(dist_ci_enc_25, interpolation='nearest', cmap='Blues')\n",
    "\n",
    "ax1.set_title('face_recognition distance\\nbetween subject centroid faces')\n",
    "ax1.set_xlabel('Subject ID')\n",
    "ax1.set_ylabel('Subject ID')\n",
    "\n",
    "fig.colorbar(im1, ax=ax1)\n",
    "\n",
    "im2 = ax2.imshow(match_ci_enc_25, cmap='binary', interpolation='nearest')\n",
    "\n",
    "ax2.set_title('face_recognition binary match\\nbetween subject centroid faces')\n",
    "ax2.set_xlabel('Subject ID')\n",
    "ax2.set_ylabel('Subject ID')\n",
    "\n",
    "fig.colorbar(im2, ax=ax2)\n",
    "\n",
    "plt.show()"
   ]
  },
  {
   "cell_type": "code",
   "execution_count": 158,
   "metadata": {},
   "outputs": [
    {
     "data": {
      "text/plain": [
       "{0: (array([  0,   4,  30,  34,  46,  65,  78,  80,  89, 117, 155, 158, 161]),),\n",
       " 1: (array([ 1, 53]),),\n",
       " 2: (array([  2,  18,  21,  22,  32,  36,  39,  40,  41,  49,  61,  67,  68,\n",
       "          70,  71,  72, 100, 102, 106, 107, 109, 112, 121, 124, 127, 129,\n",
       "         130, 131, 132, 139, 145, 146, 151, 152, 156, 165, 169, 181, 184,\n",
       "         188]),),\n",
       " 3: (array([  3,  66,  78,  89, 119, 125, 167, 173, 178, 180, 183]),),\n",
       " 4: (array([  0,   4,  26,  46,  63,  78,  89, 116, 120, 143, 157, 177, 179,\n",
       "         183]),),\n",
       " 5: (array([  5,  27,  43,  53,  58,  75,  77,  98, 108, 134, 160, 186]),),\n",
       " 6: (array([  6,  18,  21,  22,  36,  49,  51,  68,  70, 102, 107, 112, 121,\n",
       "         129, 130, 139, 188]),),\n",
       " 7: (array([ 7, 10]),),\n",
       " 8: (array([  8,  34,  48, 144]),),\n",
       " 9: (array([9]),),\n",
       " 10: (array([  7,  10, 142]),),\n",
       " 11: (array([ 11,  44,  86, 134, 158, 186, 187]),),\n",
       " 12: (array([ 12,  37,  96, 143, 149, 168]),),\n",
       " 13: (array([ 13,  46,  85, 143]),),\n",
       " 14: (array([14]),),\n",
       " 15: (array([ 15,  48,  53,  54,  79,  91, 108, 118]),),\n",
       " 16: (array([ 16,  56,  78,  89, 120, 126, 164]),),\n",
       " 17: (array([17]),),\n",
       " 18: (array([  2,   6,  18,  21,  22,  36,  39,  40,  41,  49,  51,  61,  67,\n",
       "          70,  72, 100, 102, 106, 107, 109, 112, 121, 124, 127, 129, 130,\n",
       "         131, 139, 145, 146, 151, 163, 165, 169, 181, 184, 188]),),\n",
       " 19: (array([ 19,  27,  33,  55,  58,  94, 134]),),\n",
       " 20: (array([ 20,  30,  35,  38,  56,  57,  65, 137, 147, 167]),),\n",
       " 21: (array([  2,   6,  18,  21,  22,  23,  32,  39,  40,  41,  49,  61,  62,\n",
       "          67,  68,  70,  71,  72, 100, 102, 106, 107, 109, 112, 121, 122,\n",
       "         124, 127, 129, 130, 131, 132, 139, 146, 151, 152, 156, 165, 169,\n",
       "         176, 181, 184, 188]),),\n",
       " 22: (array([  2,   6,  18,  21,  22,  23,  32,  39,  40,  41,  49,  61,  67,\n",
       "          68,  70,  71,  72, 100, 102, 106, 107, 109, 112, 121, 122, 124,\n",
       "         127, 129, 130, 131, 139, 146, 151, 152, 156, 165, 169, 181, 184]),),\n",
       " 23: (array([ 21,  22,  23,  32,  40,  41,  61,  62,  71,  72, 100, 106, 107,\n",
       "         109, 112, 122, 124, 131, 132, 146, 151, 156, 169, 177, 181, 184]),),\n",
       " 24: (array([24, 64, 97]),),\n",
       " 25: (array([25, 33]),),\n",
       " 26: (array([ 4, 26, 38, 78]),),\n",
       " 27: (array([  5,  19,  27,  43,  53,  54,  55,  58,  75,  76,  94,  98, 134,\n",
       "         140, 160]),),\n",
       " 28: (array([ 28,  37,  66, 117, 128, 143, 149, 166, 178, 180, 183]),),\n",
       " 29: (array([29]),),\n",
       " 30: (array([  0,  20,  30,  34,  95, 113, 135]),),\n",
       " 31: (array([31, 52, 53, 86, 98]),),\n",
       " 32: (array([  2,  21,  22,  23,  32,  36,  40,  41,  61,  67,  71,  72, 100,\n",
       "         102, 106, 107, 109, 112, 121, 124, 127, 129, 130, 131, 139, 146,\n",
       "         151, 152, 156, 165, 169, 176, 181, 184]),),\n",
       " 33: (array([ 19,  25,  33,  69,  74, 142, 173]),),\n",
       " 34: (array([  0,   8,  30,  34,  44,  80, 113, 144, 161]),),\n",
       " 35: (array([ 20,  35,  38,  57,  78, 117, 120, 128, 167]),),\n",
       " 36: (array([  2,   6,  18,  32,  36,  39,  40,  41,  49,  51,  67,  68,  71,\n",
       "          72, 100, 102, 106, 107, 109, 112, 121, 124, 129, 130, 131, 139,\n",
       "         145, 152, 163, 165, 181, 188]),),\n",
       " 37: (array([ 12,  28,  37,  38,  66,  78, 143, 157]),),\n",
       " 38: (array([ 20,  26,  35,  37,  38,  45,  56,  57,  78, 128, 167, 168]),),\n",
       " 39: (array([  2,  18,  21,  22,  36,  39,  40,  41,  49,  51,  61,  67,  68,\n",
       "          70,  72, 100, 102, 107, 109, 112, 114, 121, 124, 127, 129, 130,\n",
       "         131, 139, 145, 146, 151, 152, 156, 163, 165, 169, 184, 188]),),\n",
       " 40: (array([  2,  18,  21,  22,  23,  32,  36,  39,  40,  41,  49,  51,  61,\n",
       "          62,  67,  68,  70,  71,  72, 100, 102, 106, 107, 109, 112, 114,\n",
       "         121, 124, 127, 129, 130, 131, 139, 146, 151, 152, 156, 165, 169,\n",
       "         181, 184, 188]),),\n",
       " 41: (array([  2,  18,  21,  22,  23,  32,  36,  39,  40,  41,  49,  61,  62,\n",
       "          67,  68,  70,  71,  72, 100, 102, 106, 107, 109, 112, 121, 122,\n",
       "         124, 127, 129, 130, 131, 132, 139, 146, 151, 152, 156, 165, 169,\n",
       "         181, 184, 188]),),\n",
       " 42: (array([42]),),\n",
       " 43: (array([ 5, 27, 43, 75]),),\n",
       " 44: (array([ 11,  34,  44, 110, 113, 148, 155, 161]),),\n",
       " 45: (array([ 38,  45,  56, 116, 157, 167, 177, 183]),),\n",
       " 46: (array([  0,   4,  13,  46, 157]),),\n",
       " 47: (array([ 47, 136, 162, 187]),),\n",
       " 48: (array([ 8, 15, 48]),),\n",
       " 49: (array([  2,   6,  18,  21,  22,  36,  39,  40,  41,  49,  51,  61,  67,\n",
       "          68,  70,  72, 100, 107, 109, 112, 114, 121, 124, 127, 129, 130,\n",
       "         131, 139, 145, 146, 151, 152, 156, 165, 169, 181, 184, 188]),),\n",
       " 50: (array([50]),),\n",
       " 51: (array([  6,  18,  36,  39,  40,  49,  51,  67,  70,  72, 107, 109, 112,\n",
       "         121, 124, 129, 130, 139, 145, 163, 188]),),\n",
       " 52: (array([31, 52, 86]),),\n",
       " 53: (array([  1,   5,  15,  27,  31,  53,  54, 148]),),\n",
       " 54: (array([ 15,  27,  53,  54,  69, 160]),),\n",
       " 55: (array([ 19,  27,  55,  94, 154]),),\n",
       " 56: (array([ 16,  20,  38,  45,  56,  57,  63, 128, 167, 168]),),\n",
       " 57: (array([ 20,  35,  38,  56,  57,  78,  85,  89, 137, 168, 175]),),\n",
       " 58: (array([ 5, 19, 27, 58, 76, 98]),),\n",
       " 59: (array([ 59, 173]),),\n",
       " 60: (array([60, 81]),),\n",
       " 61: (array([  2,  18,  21,  22,  23,  32,  39,  40,  41,  49,  61,  67,  70,\n",
       "          71,  72, 100, 102, 106, 107, 109, 112, 121, 124, 127, 129, 130,\n",
       "         131, 139, 146, 151, 152, 156, 165, 169, 181, 184]),),\n",
       " 62: (array([ 21,  23,  40,  41,  62,  72, 100, 106, 131, 181]),),\n",
       " 63: (array([  4,  56,  63,  78, 120, 128, 177, 183]),),\n",
       " 64: (array([ 24,  64, 136, 187]),),\n",
       " 65: (array([  0,  20,  65, 119, 142, 158, 167, 173]),),\n",
       " 66: (array([  3,  28,  37,  66,  96, 138, 143, 178, 183]),),\n",
       " 67: (array([  2,  18,  21,  22,  32,  36,  39,  40,  41,  49,  51,  61,  67,\n",
       "          68,  70,  71,  72, 100, 102, 107, 109, 112, 114, 121, 124, 127,\n",
       "         129, 130, 131, 139, 146, 151, 152, 156, 165, 169, 181, 184, 188]),),\n",
       " 68: (array([  2,   6,  21,  22,  36,  39,  40,  41,  49,  67,  68,  72, 100,\n",
       "         102, 107, 109, 112, 114, 121, 127, 129, 130, 131, 139, 152, 156,\n",
       "         165, 184, 188]),),\n",
       " 69: (array([ 33,  54,  69, 142, 144]),),\n",
       " 70: (array([  2,   6,  18,  21,  22,  39,  40,  41,  49,  51,  61,  67,  70,\n",
       "          71,  72, 100, 102, 107, 109, 112, 114, 121, 124, 127, 129, 130,\n",
       "         139, 146, 151, 152, 156, 165, 169, 184]),),\n",
       " 71: (array([  2,  21,  22,  23,  32,  36,  40,  41,  61,  67,  70,  71,  72,\n",
       "         100, 102, 106, 107, 109, 112, 121, 124, 127, 129, 130, 131, 132,\n",
       "         139, 146, 151, 152, 156, 165, 169, 181, 184]),),\n",
       " 72: (array([  2,  18,  21,  22,  23,  32,  36,  39,  40,  41,  49,  51,  61,\n",
       "          62,  67,  68,  70,  71,  72, 100, 102, 106, 107, 109, 112, 121,\n",
       "         122, 124, 127, 129, 130, 131, 139, 146, 151, 152, 156, 165, 169,\n",
       "         181, 184, 188]),),\n",
       " 73: (array([ 73,  82, 173, 181, 187]),),\n",
       " 74: (array([33, 74]),),\n",
       " 75: (array([  5,  27,  43,  75, 110, 186]),),\n",
       " 76: (array([27, 58, 76]),),\n",
       " 77: (array([ 5, 77, 83, 88]),),\n",
       " 78: (array([  0,   3,   4,  16,  26,  35,  37,  38,  57,  63,  78,  89, 113,\n",
       "         116, 117, 120, 128, 149, 164, 178, 183]),),\n",
       " 79: (array([ 15,  79, 111]),),\n",
       " 80: (array([  0,  34,  80, 113, 144, 149, 155, 161]),),\n",
       " 81: (array([60, 81]),),\n",
       " 82: (array([73, 82]),),\n",
       " 83: (array([ 77,  83, 111]),),\n",
       " 84: (array([84, 92]),),\n",
       " 85: (array([ 13,  57,  85, 168, 175]),),\n",
       " 86: (array([ 11,  31,  52,  86,  98, 111]),),\n",
       " 87: (array([ 87,  93, 164]),),\n",
       " 88: (array([77, 88]),),\n",
       " 89: (array([  0,   3,   4,  16,  57,  78,  89, 120, 126, 128, 137, 147, 171]),),\n",
       " 90: (array([90]),),\n",
       " 91: (array([ 15,  91, 108]),),\n",
       " 92: (array([84, 92]),),\n",
       " 93: (array([ 87,  93, 116, 164]),),\n",
       " 94: (array([19, 27, 55, 94]),),\n",
       " 95: (array([30, 95]),),\n",
       " 96: (array([ 12,  66,  96, 132, 183]),),\n",
       " 97: (array([24, 97]),),\n",
       " 98: (array([  5,  27,  31,  58,  86,  98, 160]),),\n",
       " 99: (array([ 99, 141, 160]),),\n",
       " 100: (array([  2,  18,  21,  22,  23,  32,  36,  39,  40,  41,  49,  61,  62,\n",
       "          67,  68,  70,  71,  72, 100, 102, 106, 107, 109, 112, 121, 122,\n",
       "         124, 127, 129, 130, 131, 132, 139, 146, 151, 152, 156, 165, 169,\n",
       "         181, 184, 188]),),\n",
       " 101: (array([101]),),\n",
       " 102: (array([  2,   6,  18,  21,  22,  32,  36,  39,  40,  41,  61,  67,  68,\n",
       "          70,  71,  72, 100, 102, 106, 107, 109, 112, 121, 124, 127, 130,\n",
       "         131, 139, 151, 165, 169, 184, 188]),),\n",
       " 103: (array([103]),),\n",
       " 104: (array([104]),),\n",
       " 105: (array([105]),),\n",
       " 106: (array([  2,  18,  21,  22,  23,  32,  36,  40,  41,  61,  62,  71,  72,\n",
       "         100, 102, 106, 107, 109, 112, 121, 124, 127, 129, 130, 131, 132,\n",
       "         145, 146, 151, 156, 165, 169, 181, 184, 188]),),\n",
       " 107: (array([  2,   6,  18,  21,  22,  23,  32,  36,  39,  40,  41,  49,  51,\n",
       "          61,  67,  68,  70,  71,  72, 100, 102, 106, 107, 109, 112, 114,\n",
       "         121, 122, 124, 127, 129, 130, 131, 132, 139, 145, 146, 151, 152,\n",
       "         156, 165, 169, 177, 181, 184, 188]),),\n",
       " 108: (array([  5,  15,  91, 108]),),\n",
       " 109: (array([  2,  18,  21,  22,  23,  32,  36,  39,  40,  41,  49,  51,  61,\n",
       "          67,  68,  70,  71,  72, 100, 102, 106, 107, 109, 112, 121, 122,\n",
       "         124, 127, 129, 130, 131, 132, 139, 146, 151, 152, 156, 165, 169,\n",
       "         181, 184, 188]),),\n",
       " 110: (array([ 44,  75, 110]),),\n",
       " 111: (array([ 79,  83,  86, 111, 113, 135]),),\n",
       " 112: (array([  2,   6,  18,  21,  22,  23,  32,  36,  39,  40,  41,  49,  51,\n",
       "          61,  67,  68,  70,  71,  72, 100, 102, 106, 107, 109, 112, 121,\n",
       "         122, 124, 127, 129, 130, 131, 132, 139, 146, 151, 152, 156, 165,\n",
       "         169, 181, 184, 188]),),\n",
       " 113: (array([ 30,  34,  44,  78,  80, 111, 113, 123, 135, 144, 161]),),\n",
       " 114: (array([ 39,  40,  49,  67,  68,  70, 107, 114, 121, 127, 130, 139, 152,\n",
       "         163, 165]),),\n",
       " 115: (array([115]),),\n",
       " 116: (array([  4,  45,  78,  93, 116, 164, 177]),),\n",
       " 117: (array([  0,  28,  35,  78, 117, 158]),),\n",
       " 118: (array([ 15, 118, 149]),),\n",
       " 119: (array([  3,  65, 119]),),\n",
       " 120: (array([  4,  16,  35,  63,  78,  89, 120, 126, 128, 147, 164, 171, 178,\n",
       "         183]),),\n",
       " 121: (array([  2,   6,  18,  21,  22,  32,  36,  39,  40,  41,  49,  51,  61,\n",
       "          67,  68,  70,  71,  72, 100, 102, 106, 107, 109, 112, 114, 121,\n",
       "         124, 127, 129, 130, 131, 139, 146, 151, 152, 156, 163, 165, 169,\n",
       "         184]),),\n",
       " 122: (array([ 21,  22,  23,  41,  72, 100, 107, 109, 112, 122, 124, 132, 146,\n",
       "         151, 156, 162, 169, 177, 181, 184]),),\n",
       " 123: (array([113, 123, 144, 155]),),\n",
       " 124: (array([  2,  18,  21,  22,  23,  32,  36,  39,  40,  41,  49,  51,  61,\n",
       "          67,  70,  71,  72, 100, 102, 106, 107, 109, 112, 121, 122, 124,\n",
       "         127, 129, 130, 131, 145, 146, 151, 156, 162, 165, 169, 181, 184,\n",
       "         188]),),\n",
       " 125: (array([  3, 125]),),\n",
       " 126: (array([ 16,  89, 120, 126, 147, 167]),),\n",
       " 127: (array([  2,  18,  21,  22,  32,  39,  40,  41,  49,  61,  67,  68,  70,\n",
       "          71,  72, 100, 102, 106, 107, 109, 112, 114, 121, 124, 127, 129,\n",
       "         130, 131, 139, 146, 151, 152, 156, 162, 165, 169, 181, 184, 188]),),\n",
       " 128: (array([ 28,  35,  38,  56,  63,  78,  89, 120, 128, 138]),),\n",
       " 129: (array([  2,   6,  18,  21,  22,  32,  36,  39,  40,  41,  49,  51,  61,\n",
       "          67,  68,  70,  71,  72, 100, 106, 107, 109, 112, 121, 124, 127,\n",
       "         129, 130, 131, 139, 145, 146, 151, 152, 156, 163, 165, 169, 181,\n",
       "         184, 188]),),\n",
       " 130: (array([  2,   6,  18,  21,  22,  32,  36,  39,  40,  41,  49,  51,  61,\n",
       "          67,  68,  70,  71,  72, 100, 102, 106, 107, 109, 112, 114, 121,\n",
       "         124, 127, 129, 130, 131, 139, 146, 151, 152, 156, 165, 169, 181,\n",
       "         184, 188]),),\n",
       " 131: (array([  2,  18,  21,  22,  23,  32,  36,  39,  40,  41,  49,  61,  62,\n",
       "          67,  68,  71,  72, 100, 102, 106, 107, 109, 112, 121, 124, 127,\n",
       "         129, 130, 131, 139, 146, 151, 156, 165, 169, 181, 184, 188]),),\n",
       " 132: (array([  2,  21,  23,  41,  71,  96, 100, 106, 107, 109, 112, 122, 132,\n",
       "         151, 169, 181]),),\n",
       " 133: (array([133]),),\n",
       " 134: (array([  5,  11,  19,  27, 134, 140]),),\n",
       " 135: (array([ 30, 111, 113, 135]),),\n",
       " 136: (array([ 47,  64, 136, 185, 187]),),\n",
       " 137: (array([ 20,  57,  89, 137, 159]),),\n",
       " 138: (array([ 66, 128, 138, 167, 181, 183]),),\n",
       " 139: (array([  2,   6,  18,  21,  22,  32,  36,  39,  40,  41,  49,  51,  61,\n",
       "          67,  68,  70,  71,  72, 100, 102, 107, 109, 112, 114, 121, 127,\n",
       "         129, 130, 131, 139, 145, 152, 156, 165, 181, 184, 188]),),\n",
       " 140: (array([ 27, 134, 140]),),\n",
       " 141: (array([ 99, 141]),),\n",
       " 142: (array([ 10,  33,  65,  69, 142]),),\n",
       " 143: (array([  4,  12,  13,  28,  37,  66, 143, 157, 177, 183]),),\n",
       " 144: (array([  8,  34,  69,  80, 113, 123, 144, 185]),),\n",
       " 145: (array([  2,  18,  36,  39,  49,  51, 106, 107, 124, 129, 139, 145, 163,\n",
       "         181, 188]),),\n",
       " 146: (array([  2,  18,  21,  22,  23,  32,  39,  40,  41,  49,  61,  67,  70,\n",
       "          71,  72, 100, 106, 107, 109, 112, 121, 122, 124, 127, 129, 130,\n",
       "         131, 146, 151, 156, 165, 169, 181, 184]),),\n",
       " 147: (array([ 20,  89, 120, 126, 147, 159, 171, 178, 183]),),\n",
       " 148: (array([ 44,  53, 148, 155, 160]),),\n",
       " 149: (array([ 12,  28,  78,  80, 118, 149, 183]),),\n",
       " 150: (array([150]),),\n",
       " 151: (array([  2,  18,  21,  22,  23,  32,  39,  40,  41,  49,  61,  67,  70,\n",
       "          71,  72, 100, 102, 106, 107, 109, 112, 121, 122, 124, 127, 129,\n",
       "         130, 131, 132, 146, 151, 152, 156, 165, 169, 181, 184]),),\n",
       " 152: (array([  2,  21,  22,  32,  36,  39,  40,  41,  49,  61,  67,  68,  70,\n",
       "          71,  72, 100, 107, 109, 112, 114, 121, 127, 129, 130, 139, 151,\n",
       "         152, 156, 165]),),\n",
       " 153: (array([153]),),\n",
       " 154: (array([ 55, 154]),),\n",
       " 155: (array([  0,  44,  80, 123, 148, 155, 158]),),\n",
       " 156: (array([  2,  21,  22,  23,  32,  39,  40,  41,  49,  61,  67,  68,  70,\n",
       "          71,  72, 100, 106, 107, 109, 112, 121, 122, 124, 127, 129, 130,\n",
       "         131, 139, 146, 151, 152, 156, 165, 169, 177, 181, 184]),),\n",
       " 157: (array([  4,  37,  45,  46, 143, 157, 179, 183]),),\n",
       " 158: (array([  0,  11,  65, 117, 155, 158]),),\n",
       " 159: (array([137, 147, 159, 183]),),\n",
       " 160: (array([  5,  27,  54,  98,  99, 148, 160]),),\n",
       " 161: (array([  0,  34,  44,  80, 113, 161]),),\n",
       " 162: (array([ 47, 122, 124, 127, 162, 184]),),\n",
       " 163: (array([ 18,  36,  39,  51, 114, 121, 129, 145, 163, 165]),),\n",
       " 164: (array([ 16,  78,  87,  93, 116, 120, 164, 190]),),\n",
       " 165: (array([  2,  18,  21,  22,  32,  36,  39,  40,  41,  49,  61,  67,  68,\n",
       "          70,  71,  72, 100, 102, 106, 107, 109, 112, 114, 121, 124, 127,\n",
       "         129, 130, 131, 139, 146, 151, 152, 156, 163, 165, 169, 181, 184,\n",
       "         188]),),\n",
       " 166: (array([ 28, 166]),),\n",
       " 167: (array([  3,  20,  35,  38,  45,  56,  65, 126, 138, 167]),),\n",
       " 168: (array([ 12,  38,  56,  57,  85, 168, 175]),),\n",
       " 169: (array([  2,  18,  21,  22,  23,  32,  39,  40,  41,  49,  61,  67,  70,\n",
       "          71,  72, 100, 102, 106, 107, 109, 112, 121, 122, 124, 127, 129,\n",
       "         130, 131, 132, 146, 151, 156, 165, 169, 177, 181, 184]),),\n",
       " 170: (array([170]),),\n",
       " 171: (array([ 89, 120, 147, 171]),),\n",
       " 172: (array([172]),),\n",
       " 173: (array([  3,  33,  59,  65,  73, 173]),),\n",
       " 174: (array([174]),),\n",
       " 175: (array([ 57,  85, 168, 175]),),\n",
       " 176: (array([ 21,  32, 176]),),\n",
       " 177: (array([  4,  23,  45,  63, 107, 116, 122, 143, 156, 169, 177, 183, 184]),),\n",
       " 178: (array([  3,  28,  66,  78, 120, 147, 178, 183]),),\n",
       " 179: (array([  4, 157, 179]),),\n",
       " 180: (array([  3,  28, 180]),),\n",
       " 181: (array([  2,  18,  21,  22,  23,  32,  36,  40,  41,  49,  61,  62,  67,\n",
       "          71,  72,  73, 100, 106, 107, 109, 112, 122, 124, 127, 129, 130,\n",
       "         131, 132, 138, 139, 145, 146, 151, 156, 165, 169, 181, 184]),),\n",
       " 182: (array([182]),),\n",
       " 183: (array([  3,   4,  28,  45,  63,  66,  78,  96, 120, 138, 143, 147, 149,\n",
       "         157, 159, 177, 178, 183]),),\n",
       " 184: (array([  2,  18,  21,  22,  23,  32,  39,  40,  41,  49,  61,  67,  68,\n",
       "          70,  71,  72, 100, 102, 106, 107, 109, 112, 121, 122, 124, 127,\n",
       "         129, 130, 131, 139, 146, 151, 156, 162, 165, 169, 177, 181, 184,\n",
       "         188]),),\n",
       " 185: (array([136, 144, 185]),),\n",
       " 186: (array([  5,  11,  75, 186, 187]),),\n",
       " 187: (array([ 11,  47,  64,  73, 136, 186, 187]),),\n",
       " 188: (array([  2,   6,  18,  21,  36,  39,  40,  41,  49,  51,  67,  68,  72,\n",
       "         100, 102, 106, 107, 109, 112, 124, 127, 129, 130, 131, 139, 145,\n",
       "         165, 184, 188]),),\n",
       " 189: (array([189]),),\n",
       " 190: (array([164, 190]),)}"
      ]
     },
     "execution_count": 158,
     "metadata": {},
     "output_type": "execute_result"
    }
   ],
   "source": [
    "# Looks like there are some false positive matches... Let's see how many.\n",
    "fp_record = {}\n",
    "for i in range(len(match_ci_encs)):\n",
    "    match_list = np.array(match_ci_encs[i])\n",
    "    fp_record[i] = np.where(match_list==True)\n",
    "fp_record"
   ]
  },
  {
   "cell_type": "code",
   "execution_count": 159,
   "metadata": {},
   "outputs": [
    {
     "data": {
      "text/plain": [
       "191"
      ]
     },
     "execution_count": 159,
     "metadata": {},
     "output_type": "execute_result"
    }
   ],
   "source": [
    "len(dist_ci_lr_vecs)"
   ]
  },
  {
   "cell_type": "code",
   "execution_count": 160,
   "metadata": {},
   "outputs": [
    {
     "data": {
      "text/plain": [
       "((191, 191), (191, 191, 512))"
      ]
     },
     "execution_count": 160,
     "metadata": {},
     "output_type": "execute_result"
    }
   ],
   "source": [
    "np.array(dist_ci_encs).shape, np.array(dist_ci_lr_vecs).shape"
   ]
  },
  {
   "cell_type": "code",
   "execution_count": null,
   "metadata": {},
   "outputs": [],
   "source": [
    "# mean_fr_distances = df_fr_distances.describe().loc['mean']\n",
    "# _ = plt.hist(mean_fr_distances, bins='auto')"
   ]
  },
  {
   "cell_type": "code",
   "execution_count": null,
   "metadata": {},
   "outputs": [],
   "source": [
    "# def is_normal(data, alpha=0.05, method='shapiro'):\n",
    "#     if method=='shapiro':\n",
    "#         stat, p = shapiro(data)\n",
    "#     else:\n",
    "#         stat, p = normaltest(data)\n",
    "#     print(stat, p)\n",
    "#     if p > alpha:\n",
    "#         print('Sample looks Gaussian (fail to reject H0)')\n",
    "#     else:\n",
    "#         print('Sample not look Gaussian (reject H0)')"
   ]
  },
  {
   "cell_type": "code",
   "execution_count": null,
   "metadata": {},
   "outputs": [],
   "source": [
    "# is_normal(mean_fr_distances, alpha=0.05, method='dagostino')"
   ]
  },
  {
   "cell_type": "code",
   "execution_count": null,
   "metadata": {},
   "outputs": [],
   "source": [
    "# sg_distances = []\n",
    "# for i, centroid_lr_fname in enumerate(centroid_lr_fnames):   \n",
    "#     #false_positives.append(sum(match) - 1)"
   ]
  },
  {
   "cell_type": "code",
   "execution_count": null,
   "metadata": {},
   "outputs": [],
   "source": []
  },
  {
   "cell_type": "code",
   "execution_count": null,
   "metadata": {},
   "outputs": [],
   "source": []
  },
  {
   "cell_type": "code",
   "execution_count": null,
   "metadata": {},
   "outputs": [],
   "source": []
  },
  {
   "cell_type": "code",
   "execution_count": null,
   "metadata": {},
   "outputs": [],
   "source": [
    "# import plotly.graph_objects as go\n",
    "# fig = go.Figure(\n",
    "#     data=[\n",
    "#         go.Surface(z=distances_df.values),\n",
    "#     ]\n",
    "# )\n",
    "# fig.update_layout(\n",
    "#     title='Euclidean distance between centroid encodings', \n",
    "#     autosize=False,\n",
    "#     width=500, \n",
    "#     height=500,\n",
    "#     margin=dict(l=65, r=50, b=65, t=90))\n",
    "# fig.show()"
   ]
  },
  {
   "cell_type": "code",
   "execution_count": null,
   "metadata": {},
   "outputs": [],
   "source": [
    "# false_positives_df = pd.DataFrame(false_positives, index=centroids, columns=['fp'])"
   ]
  },
  {
   "cell_type": "code",
   "execution_count": null,
   "metadata": {},
   "outputs": [],
   "source": [
    "# false_positives_df['fp'].value_counts()"
   ]
  },
  {
   "cell_type": "code",
   "execution_count": null,
   "metadata": {},
   "outputs": [],
   "source": [
    "# _ = plt.hist(mean_fr_distances, bins='auto') "
   ]
  },
  {
   "cell_type": "code",
   "execution_count": null,
   "metadata": {},
   "outputs": [],
   "source": []
  },
  {
   "cell_type": "code",
   "execution_count": null,
   "metadata": {},
   "outputs": [],
   "source": []
  },
  {
   "cell_type": "code",
   "execution_count": null,
   "metadata": {},
   "outputs": [],
   "source": []
  },
  {
   "cell_type": "code",
   "execution_count": null,
   "metadata": {},
   "outputs": [],
   "source": [
    "def interpolate_centroids(sub1, sub2, steps=60, pkl_fname='interpolate_centroids.pkl'):\n",
    "    \n",
    "#     ensemble_sub1 = subjects[sub1]\n",
    "#     ensemble_sub2 = subjects[sub2]\n",
    "    \n",
    "#     centroid1 = ensemble_sub1['latent_representations_mean']\n",
    "#     centroid2 = ensemble_sub2['latent_representations_mean']\n",
    "    \n",
    "#     centroid_img1 = generate_image(centroid1)\n",
    "#     centroid_img2 = generate_image(centroid2)\n",
    "    \n",
    "    centroid_img1 = Image.open('./generated_images/'+sub1+'_centroid.png')\n",
    "    centroid_img2 = Image.open('./generated_images/'+sub2+'_centroid.png')\n",
    "    \n",
    "    centroid1 = np.load('./latent_representations/'+sub1+'_centroid.png')\n",
    "    centroid2 = np.load('./latent_representations/'+sub2+'_centroid.png')\n",
    "    \n",
    "    vec1_slim = np.reshape(centroid1, [1, centroid1.shape[0] * centroid1.shape[1]])\n",
    "    vec2_slim = np.reshape(centroid2, [1, centroid2.shape[0] * centroid2.shape[1]])\n",
    "    \n",
    "    enc1 = face_recognition.face_encodings(np.array(centroid_img1))[0]\n",
    "    enc2 = face_recognition.face_encodings(np.array(centroid_img2))[0]\n",
    "\n",
    "    known_encodings = [enc1, enc2]\n",
    "    \n",
    "    images = []\n",
    "    fr_distances = []\n",
    "    \n",
    "    z = np.empty((steps, vec1_slim.shape[1]))\n",
    "    for i, alpha in enumerate(np.linspace(start=1.0, stop=0.0, num=steps)):\n",
    "\n",
    "        # Linearly interpolate.\n",
    "        z[i] = (alpha) * vec1_slim + (1.0-alpha) * vec2_slim\n",
    "\n",
    "        # Reshape interpolated vector, and get interpolated image.\n",
    "        curr_vec = np.reshape(z[i], [18, 512]) # back to original shape\n",
    "        curr_img = np.array(generate_image(curr_vec))\n",
    "\n",
    "        curr_enc = face_recognition.face_encodings(curr_img)[0]\n",
    "        fr_distance = face_recognition.face_distance(known_encodings, curr_enc)\n",
    "\n",
    "        images.append(np.array(curr_img))\n",
    "        fr_distances.append(fr_distance)\n",
    "        \n",
    "    return_dict = {\n",
    "        'images': images,\n",
    "        'fr_distances': fr_distances,\n",
    "    }\n",
    "    \n",
    "    return return_dict"
   ]
  },
  {
   "cell_type": "code",
   "execution_count": null,
   "metadata": {},
   "outputs": [],
   "source": [
    "# results = interpolate_centroids('04261', '02463')"
   ]
  },
  {
   "cell_type": "code",
   "execution_count": null,
   "metadata": {},
   "outputs": [],
   "source": [
    "# results['fr_distances']"
   ]
  },
  {
   "cell_type": "code",
   "execution_count": null,
   "metadata": {},
   "outputs": [],
   "source": [
    "# idx_sub1 = 0\n",
    "# idx_sub2 = 0\n",
    "# for i, pair in enumerate(rd['fr_distances']):\n",
    "#     if pair[0] < 0.4:\n",
    "#         idx_sub1 = i\n",
    "#     if pair[1] > 0.4:\n",
    "#         idx_sub2 = i+1"
   ]
  },
  {
   "cell_type": "code",
   "execution_count": null,
   "metadata": {},
   "outputs": [],
   "source": [
    "# idx_sub1, idx_sub2"
   ]
  },
  {
   "cell_type": "code",
   "execution_count": null,
   "metadata": {},
   "outputs": [],
   "source": [
    "def outwards_from_centroid(subject):\n",
    "\n",
    "    lr_fnames = glob.glob('./latent_representations/'+subject+'*')\n",
    "    lr_fnames\n",
    "\n",
    "    lr_c = None\n",
    "    lr_gi = []\n",
    "    for fname in lr_fnames:\n",
    "        lr = np.load(fname)\n",
    "        if 'centroid' in fname: lr_c = lr\n",
    "        else: lr_gi.append(lr)\n",
    "    # lr_fnames[0], lr_gi[0]\n",
    "\n",
    "    for ep in range(4):\n",
    "        \n",
    "        print('Heading to endpoint: '+str(ep))\n",
    "        center_slim = np.reshape(lr_c, [1, lr_c.shape[0] * lr_c.shape[1]])\n",
    "        endpoint_slim = np.reshape(lr_gi[ep], [1, lr_c.shape[0] * lr_c.shape[1]]) # CHANGE 0 to i LATER\n",
    "        \n",
    "        center_img = Image.open('./generated_images/04261_centroid.png')\n",
    "        endpoint_img = Image.open(\n",
    "            './generated_images/'+lr_fnames[ep].split('/')[-1][:-3]+'png'\n",
    "        )\n",
    "        \n",
    "        center_enc = face_recognition.face_encodings(np.array(center_img))\n",
    "        if len(center_enc)>0: center_enc = center_enc[0]\n",
    "        else: center_enc = np.zeros(128,)\n",
    "        \n",
    "        endpoint_enc = face_recognition.face_encodings(np.array(endpoint_img))\n",
    "        if len(endpoint_enc)>0: endpoint_enc = endpoint_enc[0]\n",
    "        else: endpoint_enc = np.zeros(128,)  \n",
    "        \n",
    "        known_encodings = [center_enc, endpoint_enc]\n",
    "    \n",
    "        images = []\n",
    "        fr_distances = []\n",
    "\n",
    "        steps = 30\n",
    "        z = np.empty((steps, center_slim.shape[1]))\n",
    "        for i, alpha in enumerate(np.linspace(start=1.0, stop=0.0, num=steps)):\n",
    "\n",
    "            # Linearly interpolate.\n",
    "            z[i] = (alpha) * center_slim + (1.0-alpha) * endpoint_slim\n",
    "\n",
    "            # Reshape interpolated vector, and get interpolated image.\n",
    "            curr_vec = np.reshape(z[i], [18, 512]) # back to original shape\n",
    "            curr_img = np.array(generate_image(curr_vec))\n",
    "\n",
    "            curr_enc = face_recognition.face_encodings(curr_img)\n",
    "            if len(curr_enc)>0: curr_enc = curr_enc[0]\n",
    "            else: curr_enc = np.zeros(128,)          \n",
    "            fr_distance = face_recognition.face_distance(known_encodings, curr_enc)\n",
    "\n",
    "            images.append(np.array(curr_img))\n",
    "            fr_distances.append(fr_distance)\n",
    "            \n",
    "        s = images[0].shape\n",
    "        steps = 30\n",
    "        videowriter =  cv2.VideoWriter('./pf_endpoint'+str(ep)+'.avi', cv2.VideoWriter_fourcc(*'mp4v'), steps/10, (s[1], s[0]))\n",
    "        for i in range(len(images)):\n",
    "            videowriter.write(images[i][...,::-1])\n",
    "        videowriter.release()   \n",
    "            "
   ]
  },
  {
   "cell_type": "code",
   "execution_count": null,
   "metadata": {},
   "outputs": [],
   "source": []
  }
 ],
 "metadata": {
  "kernelspec": {
   "display_name": "Python 3",
   "language": "python",
   "name": "python3"
  },
  "language_info": {
   "codemirror_mode": {
    "name": "ipython",
    "version": 3
   },
   "file_extension": ".py",
   "mimetype": "text/x-python",
   "name": "python",
   "nbconvert_exporter": "python",
   "pygments_lexer": "ipython3",
   "version": "3.6.10"
  }
 },
 "nbformat": 4,
 "nbformat_minor": 2
}
