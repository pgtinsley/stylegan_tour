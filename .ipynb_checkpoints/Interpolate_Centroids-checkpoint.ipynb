{
 "cells": [
  {
   "cell_type": "code",
   "execution_count": 1,
   "metadata": {},
   "outputs": [],
   "source": [
    "# First things first...\n",
    "\n",
    "import cv2\n",
    "import random\n",
    "import pandas as pd\n",
    "import statistics\n",
    "\n",
    "# Ignore warnings\n",
    "import warnings\n",
    "warnings.filterwarnings('ignore')\n",
    "\n",
    "# Taken from pretrained_example.py\n",
    "import os\n",
    "import pickle\n",
    "import PIL.Image\n",
    "import numpy as np\n",
    "import dnnlib\n",
    "import dnnlib.tflib as tflib\n",
    "import config\n",
    "from encoder.generator_model import Generator\n",
    "\n",
    "# Off-the-shelf recognizer\n",
    "import face_recognition\n",
    "\n",
    "# Plotting\n",
    "import matplotlib.pyplot as plt\n",
    "%matplotlib inline\n",
    "\n",
    "from PIL import Image, ImageDraw, ImageFont"
   ]
  },
  {
   "cell_type": "code",
   "execution_count": 2,
   "metadata": {},
   "outputs": [],
   "source": [
    "# Plot latent vectors of shape 18x512\n",
    "def generate_image(latent_vector, size=512):\n",
    "    latent_vector = latent_vector.reshape((1, 18, 512))\n",
    "    generator.set_dlatents(latent_vector)\n",
    "    img_array = generator.generate_images()[0]\n",
    "    img = PIL.Image.fromarray(img_array, 'RGB')\n",
    "#     return img.resize((1024, 1024))\n",
    "    return img.resize((size, size))"
   ]
  },
  {
   "cell_type": "code",
   "execution_count": 3,
   "metadata": {},
   "outputs": [],
   "source": [
    "def setup():\n",
    "    tflib.init_tf()\n",
    "    # Load pre-trained network.\n",
    "    url = 'https://drive.google.com/uc?id=1MEGjdvVpUsu1jB4zrXZN7Y4kBBOzizDQ' # karras2019stylegan-ffhq-1024x1024.pkl\n",
    "    with dnnlib.util.open_url(url, cache_dir=config.cache_dir) as f:\n",
    "        _G, _D, Gs = pickle.load(f)\n",
    "    generator = Generator(Gs, batch_size=1, randomize_noise=False) # -- RUNNING >1 TIMES THROWS ERROR\n",
    "    fmt = dict(func=tflib.convert_images_to_uint8, nchw_to_nhwc=True)\n",
    "    return [_G, _D, Gs, generator, fmt]"
   ]
  },
  {
   "cell_type": "code",
   "execution_count": 4,
   "metadata": {},
   "outputs": [],
   "source": [
    "# Only run once.\n",
    "[_G, _D, Gs, generator, fmt] = setup()"
   ]
  },
  {
   "cell_type": "code",
   "execution_count": 5,
   "metadata": {},
   "outputs": [],
   "source": [
    "# # # # #\n",
    "# subjects = {}\n",
    "# generated_images = os.listdir('./generated_images/')\n",
    "# for fname in generated_images:\n",
    "#     subject = fname.split('d')[0]\n",
    "#     lr = np.load('./latent_representations/'+fname.split('.')[0] + '.npy')\n",
    "#     if subject in subjects:\n",
    "#         subjects[subject]['generated_images'].append(fname)\n",
    "#         subjects[subject]['latent_representations'].append(lr)            \n",
    "#     else:\n",
    "#         subjects[subject] = {\n",
    "#             'generated_images': [fname],\n",
    "#             'latent_representations': [lr]\n",
    "#         }\n",
    "#     if len(subjects[subject]['latent_representations'])==4:\n",
    "#         sum_lr = np.zeros((18,512))\n",
    "#         for lr in subjects[subject]['latent_representations']:\n",
    "#             sum_lr += lr            \n",
    "#         subjects[subject]['latent_representations_mean'] = sum_lr/4\n",
    "# # # # # \n",
    "# with open('subjects.pkl','wb') as f:\n",
    "#     pickle.dump(subjects, f)"
   ]
  },
  {
   "cell_type": "code",
   "execution_count": 6,
   "metadata": {},
   "outputs": [],
   "source": [
    "with open('subjects.pkl','rb') as f:\n",
    "    subjects = pickle.load(f)"
   ]
  },
  {
   "cell_type": "code",
   "execution_count": 7,
   "metadata": {},
   "outputs": [
    {
     "data": {
      "text/plain": [
       "192"
      ]
     },
     "execution_count": 7,
     "metadata": {},
     "output_type": "execute_result"
    }
   ],
   "source": [
    "len(subjects)"
   ]
  },
  {
   "cell_type": "code",
   "execution_count": null,
   "metadata": {},
   "outputs": [],
   "source": [
    "# Is the average of each subject's 4-tuple still recognizable as the same person?"
   ]
  },
  {
   "cell_type": "code",
   "execution_count": 22,
   "metadata": {},
   "outputs": [],
   "source": [
    "sub = '04261'"
   ]
  },
  {
   "cell_type": "code",
   "execution_count": 67,
   "metadata": {},
   "outputs": [],
   "source": [
    "centroid_img = generate_image(subjects[sub]['latent_representations_mean'])\n",
    "versus_img = [generate_image(lr) for lr in subjects[sub]['latent_representations']]"
   ]
  },
  {
   "cell_type": "code",
   "execution_count": 68,
   "metadata": {},
   "outputs": [],
   "source": [
    "centroid_enc = face_recognition.face_encodings(np.array(centroid_img))"
   ]
  },
  {
   "cell_type": "code",
   "execution_count": 69,
   "metadata": {},
   "outputs": [],
   "source": [
    "versus_enc = np.array([face_recognition.face_encodings(np.array(image)) for image in versus_img])"
   ]
  },
  {
   "cell_type": "code",
   "execution_count": null,
   "metadata": {},
   "outputs": [],
   "source": []
  },
  {
   "cell_type": "code",
   "execution_count": 8,
   "metadata": {},
   "outputs": [],
   "source": [
    "def interpolate_ensembles(sub1, sub2, steps=60, pkl_fname='interpolate_ensembles.pkl'):\n",
    "    \n",
    "    ensemble_sub1 = subjects[sub1]\n",
    "    ensemble_sub2 = subjects[sub2]\n",
    "    \n",
    "    centroid1 = ensemble_sub1['latent_representations_mean']\n",
    "    centroid2 = ensemble_sub2['latent_representations_mean']\n",
    "    \n",
    "    centroid_img1 = generate_image(centroid1)\n",
    "    centroid_img2 = generate_image(centroid2)\n",
    "    \n",
    "    vec1_slim = np.reshape(centroid1, [1, centroid1.shape[0] * centroid1.shape[1]])\n",
    "    vec2_slim = np.reshape(centroid2, [1, centroid2.shape[0] * centroid2.shape[1]])\n",
    "    \n",
    "    enc1 = face_recognition.face_encodings(np.array(centroid_img1))[0]\n",
    "    enc2 = face_recognition.face_encodings(np.array(centroid_img2))[0]\n",
    "\n",
    "    known_encodings = [enc1, enc2]\n",
    "    \n",
    "    images = []\n",
    "    fr_distances = []\n",
    "    \n",
    "    z = np.empty((steps, vec1_slim.shape[1]))\n",
    "    for i, alpha in enumerate(np.linspace(start=1.0, stop=0.0, num=steps)):\n",
    "\n",
    "        # Linearly interpolate.\n",
    "        z[i] = (alpha) * vec1_slim + (1.0-alpha) * vec2_slim\n",
    "\n",
    "        # Reshape interpolated vector, and get interpolated image.\n",
    "        curr_vec = np.reshape(z[i], [18, 512]) # back to original shape\n",
    "        curr_img = np.array(generate_image(curr_vec))\n",
    "\n",
    "        curr_enc = face_recognition.face_encodings(curr_img)[0]\n",
    "        fr_distance = face_recognition.face_distance(known_encodings, curr_enc)\n",
    "\n",
    "        images.append(np.array(curr_img))\n",
    "        fr_distances.append(fr_distance)\n",
    "        \n",
    "    return_dict = {\n",
    "        'images': images,\n",
    "        'fr_distances': fr_distances,\n",
    "    }\n",
    "    \n",
    "    return return_dict"
   ]
  },
  {
   "cell_type": "code",
   "execution_count": 9,
   "metadata": {},
   "outputs": [],
   "source": [
    "# results = interpolate_ensembles('04261', '02463')"
   ]
  },
  {
   "cell_type": "code",
   "execution_count": 10,
   "metadata": {},
   "outputs": [
    {
     "data": {
      "text/plain": [
       "[array([4.12966288e-05, 8.74624020e-01]),\n",
       " array([0.03213133, 0.86791577]),\n",
       " array([0.03560125, 0.86434541]),\n",
       " array([0.06162209, 0.85767704]),\n",
       " array([0.06893946, 0.85276984]),\n",
       " array([0.09454193, 0.84726957]),\n",
       " array([0.09908839, 0.84008087]),\n",
       " array([0.11624539, 0.83835228]),\n",
       " array([0.13331088, 0.83546904]),\n",
       " array([0.15929139, 0.83365832]),\n",
       " array([0.17543489, 0.82975837]),\n",
       " array([0.19058066, 0.81975683]),\n",
       " array([0.20513742, 0.81471387]),\n",
       " array([0.22226042, 0.80795868]),\n",
       " array([0.23453634, 0.80348428]),\n",
       " array([0.25285345, 0.79397346]),\n",
       " array([0.2686081 , 0.78519981]),\n",
       " array([0.28471693, 0.77225984]),\n",
       " array([0.29800897, 0.75977539]),\n",
       " array([0.31045764, 0.74703414]),\n",
       " array([0.3309452 , 0.73480665]),\n",
       " array([0.34498794, 0.71667825]),\n",
       " array([0.36144759, 0.69733721]),\n",
       " array([0.37278683, 0.68418438]),\n",
       " array([0.3875843 , 0.66140655]),\n",
       " array([0.40447225, 0.64502694]),\n",
       " array([0.42802858, 0.61796615]),\n",
       " array([0.44514279, 0.59683473]),\n",
       " array([0.47184745, 0.57071031]),\n",
       " array([0.49162665, 0.54901504]),\n",
       " array([0.51244518, 0.52901482]),\n",
       " array([0.53832854, 0.50076918]),\n",
       " array([0.55653529, 0.48211787]),\n",
       " array([0.57454126, 0.46638128]),\n",
       " array([0.600415  , 0.44010477]),\n",
       " array([0.61983446, 0.42096897]),\n",
       " array([0.64020125, 0.40403238]),\n",
       " array([0.65575  , 0.3871368]),\n",
       " array([0.67652538, 0.37045366]),\n",
       " array([0.69122494, 0.35857338]),\n",
       " array([0.7047255 , 0.34094529]),\n",
       " array([0.71719812, 0.32945634]),\n",
       " array([0.73048771, 0.31828361]),\n",
       " array([0.73938172, 0.30493939]),\n",
       " array([0.75192662, 0.2921644 ]),\n",
       " array([0.76444372, 0.2751602 ]),\n",
       " array([0.77459847, 0.26374225]),\n",
       " array([0.78695241, 0.24616251]),\n",
       " array([0.79866432, 0.23354531]),\n",
       " array([0.80698662, 0.21221448]),\n",
       " array([0.81315165, 0.19675141]),\n",
       " array([0.82196804, 0.1838921 ]),\n",
       " array([0.82873646, 0.16525993]),\n",
       " array([0.83430362, 0.1450323 ]),\n",
       " array([0.84175205, 0.12263998]),\n",
       " array([0.84475079, 0.10263222]),\n",
       " array([0.85240039, 0.08007265]),\n",
       " array([0.86439196, 0.05855267]),\n",
       " array([0.86804092, 0.03489784]),\n",
       " array([0.87462183, 0.        ])]"
      ]
     },
     "execution_count": 10,
     "metadata": {},
     "output_type": "execute_result"
    }
   ],
   "source": [
    "# results['fr_distances']"
   ]
  },
  {
   "cell_type": "code",
   "execution_count": null,
   "metadata": {},
   "outputs": [],
   "source": [
    "# idx_sub1 = 0\n",
    "# idx_sub2 = 0\n",
    "# for i, pair in enumerate(rd['fr_distances']):\n",
    "#     if pair[0] < 0.4:\n",
    "#         idx_sub1 = i\n",
    "#     if pair[1] > 0.4:\n",
    "#         idx_sub2 = i+1"
   ]
  },
  {
   "cell_type": "code",
   "execution_count": null,
   "metadata": {},
   "outputs": [],
   "source": [
    "# idx_sub1, idx_sub2"
   ]
  },
  {
   "cell_type": "code",
   "execution_count": null,
   "metadata": {},
   "outputs": [],
   "source": []
  }
 ],
 "metadata": {
  "kernelspec": {
   "display_name": "Python 3",
   "language": "python",
   "name": "python3"
  },
  "language_info": {
   "codemirror_mode": {
    "name": "ipython",
    "version": 3
   },
   "file_extension": ".py",
   "mimetype": "text/x-python",
   "name": "python",
   "nbconvert_exporter": "python",
   "pygments_lexer": "ipython3",
   "version": "3.6.10"
  }
 },
 "nbformat": 4,
 "nbformat_minor": 2
}
