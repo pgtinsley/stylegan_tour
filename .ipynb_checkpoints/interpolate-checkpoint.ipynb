{
 "cells": [
  {
   "cell_type": "code",
   "execution_count": null,
   "metadata": {},
   "outputs": [],
   "source": [
    "# First things first...\n",
    "\n",
    "import cv2\n",
    "import random\n",
    "import pandas as pd\n",
    "import statistics\n",
    "\n",
    "# Ignore warnings\n",
    "import warnings\n",
    "warnings.filterwarnings('ignore')\n",
    "\n",
    "# Taken from pretrained_example.py\n",
    "import os\n",
    "import pickle\n",
    "import PIL.Image\n",
    "import numpy as np\n",
    "import dnnlib\n",
    "import dnnlib.tflib as tflib\n",
    "import config\n",
    "from encoder.generator_model import Generator\n",
    "\n",
    "# Off-the-shelf recognizer\n",
    "import face_recognition\n",
    "\n",
    "# Plotting\n",
    "import matplotlib.pyplot as plt\n",
    "%matplotlib inline\n",
    "\n",
    "from PIL import Image, ImageDraw, ImageFont"
   ]
  },
  {
   "cell_type": "code",
   "execution_count": null,
   "metadata": {},
   "outputs": [],
   "source": [
    "# Plot latent vectors of shape 18x512\n",
    "def generate_image(latent_vector):\n",
    "    latent_vector = latent_vector.reshape((1, 18, 512))\n",
    "    generator.set_dlatents(latent_vector)\n",
    "    img_array = generator.generate_images()[0]\n",
    "    img = PIL.Image.fromarray(img_array, 'RGB')\n",
    "    return img.resize((1024, 1024))"
   ]
  },
  {
   "cell_type": "code",
   "execution_count": null,
   "metadata": {},
   "outputs": [],
   "source": [
    "def setup():\n",
    "    tflib.init_tf()\n",
    "    # Load pre-trained network.\n",
    "    url = 'https://drive.google.com/uc?id=1MEGjdvVpUsu1jB4zrXZN7Y4kBBOzizDQ' # karras2019stylegan-ffhq-1024x1024.pkl\n",
    "    with dnnlib.util.open_url(url, cache_dir=config.cache_dir) as f:\n",
    "        _G, _D, Gs = pickle.load(f)\n",
    "    generator = Generator(Gs, batch_size=1, randomize_noise=False) # -- RUNNING >1 TIMES THROWS ERROR\n",
    "    fmt = dict(func=tflib.convert_images_to_uint8, nchw_to_nhwc=True)\n",
    "    return [_G, _D, Gs, generator, fmt]"
   ]
  },
  {
   "cell_type": "code",
   "execution_count": null,
   "metadata": {},
   "outputs": [],
   "source": [
    "# Only run once.\n",
    "[_G, _D, Gs, generator, fmt] = setup()"
   ]
  },
  {
   "cell_type": "code",
   "execution_count": null,
   "metadata": {},
   "outputs": [],
   "source": [
    "# # Load in latent vectors\n",
    "# vec1 = np.load('latent_representations/04229d87_01.npy')\n",
    "# vec2 = np.load('latent_representations/04551d40_01.npy')"
   ]
  },
  {
   "cell_type": "code",
   "execution_count": null,
   "metadata": {},
   "outputs": [],
   "source": [
    "def interpolate(dirname1, dirname2, steps=60):\n",
    "\n",
    "    # Load and convert latent vectors.\n",
    "    vec1 = np.load('../data2/'+dirname1+'/'+dirname1+'_01.npy')\n",
    "    vec2 = np.load('../data2/'+dirname2+'/'+dirname2+'_01.npy')\n",
    "\n",
    "    vec1_slim = np.reshape(vec1, [1, vec1.shape[0] * vec1.shape[1]])\n",
    "    vec2_slim = np.reshape(vec2, [1, vec2.shape[0] * vec2.shape[1]])\n",
    "    \n",
    "#     print(vec1_slim.shape, vec2_slim.shape)\n",
    "    \n",
    "    # Load and learn encodings from raw images.  \n",
    "    img1 = face_recognition.load_image_file('../data2/'+dirname1+'/'+dirname1+'.JPG')\n",
    "    img2 = face_recognition.load_image_file('../data2/'+dirname2+'/'+dirname2+'.JPG')\n",
    "    \n",
    "    enc1 = face_recognition.face_encodings(img1)[0]\n",
    "    enc2 = face_recognition.face_encodings(img2)[0]\n",
    "    \n",
    "    known_encodings = [enc1, enc2]\n",
    "    \n",
    "#     print(len(known_encodings))\n",
    "    \n",
    "    z = np.empty((steps, vec1_slim.shape[1]))   \n",
    "    for i, alpha in enumerate(np.linspace(start=1.0, stop=0.0, num=steps)):\n",
    "        z[i] = (1.0-alpha) * vec1_slim + alpha * vec2_slim\n",
    "\n",
    "#     print(z.shape)\n",
    "        \n",
    "    images = []\n",
    "    distances = []\n",
    "    \n",
    "    for i in range(steps):\n",
    "\n",
    "        curr_vec = np.reshape(z[i], [18, 512]) # back to original shape\n",
    "        curr_img = generate_image(curr_vec)\n",
    "        \n",
    "        curr_enc = face_recognition.face_encodings(curr_img)[0]\n",
    "        distance = face_recognition.face_distance(known_encodings, curr_enc)\n",
    "        \n",
    "        images.append(np.array(curr_img))\n",
    "        distances.append(distance)\n",
    "        \n",
    "    return_dict = {\n",
    "        'images': images,\n",
    "        'distances': distances\n",
    "    }\n",
    "    \n",
    "    return return_dict"
   ]
  },
  {
   "cell_type": "code",
   "execution_count": null,
   "metadata": {},
   "outputs": [],
   "source": [
    "return_dict = interpolate('02463d214', '04201d96')"
   ]
  },
  {
   "cell_type": "code",
   "execution_count": null,
   "metadata": {},
   "outputs": [],
   "source": [
    "images = return_dict['images']"
   ]
  },
  {
   "cell_type": "code",
   "execution_count": null,
   "metadata": {},
   "outputs": [],
   "source": [
    "s = images[0].shape\n",
    "videowriter =  cv2.VideoWriter('interpolate_test.avi', cv2.VideoWriter_fourcc(*'mp4v'), steps/10, (s[1], s[0]))\n",
    "for i in range(len(images)):\n",
    "    videowriter.write(images[i][...,::-1])\n",
    "videowriter.release()"
   ]
  }
 ],
 "metadata": {
  "kernelspec": {
   "display_name": "Python 3",
   "language": "python",
   "name": "python3"
  },
  "language_info": {
   "codemirror_mode": {
    "name": "ipython",
    "version": 3
   },
   "file_extension": ".py",
   "mimetype": "text/x-python",
   "name": "python",
   "nbconvert_exporter": "python",
   "pygments_lexer": "ipython3",
   "version": "3.6.9"
  }
 },
 "nbformat": 4,
 "nbformat_minor": 2
}
