{
 "cells": [
  {
   "cell_type": "code",
   "execution_count": 1,
   "metadata": {},
   "outputs": [],
   "source": [
    "import os\n",
    "import pickle\n",
    "import numpy as np\n",
    "import pandas as pd\n",
    "import plotly.graph_objects as go\n",
    "import matplotlib.pyplot as plt\n",
    "%matplotlib inline"
   ]
  },
  {
   "cell_type": "code",
   "execution_count": 2,
   "metadata": {},
   "outputs": [],
   "source": [
    "# dirname = './sample/'"
   ]
  },
  {
   "cell_type": "code",
   "execution_count": 3,
   "metadata": {},
   "outputs": [],
   "source": [
    "# dct = {}\n",
    "# for fname in os.listdir(dirname):\n",
    "#     if fname.split('.')[-1] == 'pkl':\n",
    "#         axis = fname.split('.')[0].split('_')[1]\n",
    "#         with open(dirname + fname, 'rb') as f:\n",
    "#             dct[axis] = pickle.load(f)"
   ]
  },
  {
   "cell_type": "code",
   "execution_count": 4,
   "metadata": {},
   "outputs": [],
   "source": [
    "# dct.keys()"
   ]
  },
  {
   "cell_type": "code",
   "execution_count": 5,
   "metadata": {},
   "outputs": [],
   "source": [
    "# dct['axis0']"
   ]
  },
  {
   "cell_type": "code",
   "execution_count": 6,
   "metadata": {},
   "outputs": [],
   "source": [
    "# magnitudes = ['0.05', '0.1', '0.5', '1', '5']\n",
    "# axes = range(18)"
   ]
  },
  {
   "cell_type": "code",
   "execution_count": 7,
   "metadata": {},
   "outputs": [],
   "source": [
    "# means = []\n",
    "# for ax in axes:\n",
    "#     means_by_axis = []\n",
    "#     for mag in magnitudes:\n",
    "#         means_by_axis.append(np.mean(dct['axis'+str(ax)][str(mag)]['fr_distances']))\n",
    "#     means.append(means_by_axis)"
   ]
  },
  {
   "cell_type": "code",
   "execution_count": 8,
   "metadata": {},
   "outputs": [],
   "source": [
    "# df = pd.DataFrame(means, columns=magnitudes)\n",
    "# df.index.name = 'axis'"
   ]
  },
  {
   "cell_type": "code",
   "execution_count": 9,
   "metadata": {},
   "outputs": [],
   "source": [
    "# df"
   ]
  },
  {
   "cell_type": "code",
   "execution_count": 10,
   "metadata": {},
   "outputs": [],
   "source": [
    "# trace = go.Heatmap(\n",
    "#     z=df.values,\n",
    "#     colorscale = 'RdYlBu_R',\n",
    "# )\n",
    "\n",
    "# layout = go.Layout(\n",
    "#     title=dict(\n",
    "#         text='Mean Distance in Face Recognition Latent Space for {}'.format(dirname),\n",
    "#         x=0.5,\n",
    "#         y=0.9,\n",
    "#         xanchor='center',\n",
    "#         yanchor='top'\n",
    "#     ),\n",
    "#     xaxis=dict(\n",
    "#         title='Random Perturbation Magnitude',\n",
    "#         tickmode='array',\n",
    "#         tickvals=[i for i in range(5)],\n",
    "#         ticktext=magnitudes,\n",
    "#     ),\n",
    "#     yaxis=dict(\n",
    "#         title='StyleGAN Axis',\n",
    "#         tickmode='array',\n",
    "#         tickvals=[a for a in range(18)],\n",
    "#         ticktext=[str(a) for a in range(18)],\n",
    "#     ),\n",
    "#     height=750\n",
    "# )\n",
    "\n",
    "# fig = go.Figure(data=[trace], layout=layout)\n",
    "\n",
    "# # fig.show()"
   ]
  },
  {
   "cell_type": "code",
   "execution_count": 11,
   "metadata": {},
   "outputs": [],
   "source": [
    "def get_z_dict(dirname):\n",
    "    \n",
    "    dct = {}\n",
    "    for fname in os.listdir(dirname):\n",
    "        if fname.split('.')[-1] == 'pkl':\n",
    "            axis = fname.split('.')[0].split('_')[1]\n",
    "            with open(dirname + fname, 'rb') as f:\n",
    "                dct[axis] = pickle.load(f)\n",
    "    \n",
    "    magnitudes = ['0.05', '0.1', '0.5', '1', '5']\n",
    "    \n",
    "    means = []\n",
    "    mins = []\n",
    "    maxs = []\n",
    "    stdevs = []\n",
    "    \n",
    "    for ax in range(18):\n",
    "    \n",
    "        means_by_axis = []\n",
    "        mins_by_axis = []\n",
    "        maxs_by_axis = []\n",
    "        stdevs_by_axis = []\n",
    "        \n",
    "        for mag in magnitudes:\n",
    "            \n",
    "            means_by_axis.append(np.mean(dct['axis'+str(ax)][str(mag)]['fr_distances']))\n",
    "            mins_by_axis.append(np.min(dct['axis'+str(ax)][str(mag)]['fr_distances']))\n",
    "            maxs_by_axis.append(np.max(dct['axis'+str(ax)][str(mag)]['fr_distances']))\n",
    "            stdevs_by_axis.append(np.std(dct['axis'+str(ax)][str(mag)]['fr_distances']))\n",
    "            \n",
    "        means.append(means_by_axis)\n",
    "        mins.append(mins_by_axis)\n",
    "        maxs.append(maxs_by_axis)\n",
    "        stdevs.append(stdevs_by_axis)\n",
    "        \n",
    "    mean_df = pd.DataFrame(means, columns=magnitudes)\n",
    "    min_df = pd.DataFrame(mins, columns=magnitudes)\n",
    "    max_df = pd.DataFrame(maxs, columns=magnitudes)\n",
    "    stdev_df = pd.DataFrame(stdevs, columns=magnitudes)\n",
    "    \n",
    "    mean_df.index.name = min_df.index.name = max_df.index.name = stdev_df.index.name = 'axis'\n",
    "    \n",
    "    return {\n",
    "        'mean_df': mean_df,\n",
    "        'min_df': min_df,\n",
    "        'max_df': max_df,\n",
    "        'stdev_df': stdev_df\n",
    "    }"
   ]
  },
  {
   "cell_type": "code",
   "execution_count": 12,
   "metadata": {},
   "outputs": [],
   "source": [
    "# sample = get_z_dict('./sample/')"
   ]
  },
  {
   "cell_type": "code",
   "execution_count": null,
   "metadata": {},
   "outputs": [],
   "source": [
    "# TWO EXPERIMENTS\n",
    "# - use identity-specific results to generate synthetic data\n",
    "# - use average of all results to generate synthetic data"
   ]
  },
  {
   "cell_type": "code",
   "execution_count": 33,
   "metadata": {},
   "outputs": [],
   "source": [
    "# dirnames = os.listdir('./data2/')\n",
    "# for dirname in dirnames:\n",
    "#     # print('./data2/'+dirname+'/')\n",
    "#     z_dict = get_z_dict('./data2/'+dirname+'/')\n",
    "#     with open('./data2/'+dirname+'/_zdict.pickle', 'wb') as f:\n",
    "#         pickle.dump(z_dict, f)\n",
    "#     # print('./data2/'+dirname+'/_zdict.pickle')"
   ]
  },
  {
   "cell_type": "code",
   "execution_count": 34,
   "metadata": {},
   "outputs": [],
   "source": [
    "# with open('data2/04256d84/_zdict.pickle','rb') as f:\n",
    "#     zd = pickle.load(f)"
   ]
  },
  {
   "cell_type": "code",
   "execution_count": null,
   "metadata": {},
   "outputs": [],
   "source": [
    "# EXPERIMENT 1"
   ]
  }
 ],
 "metadata": {
  "kernelspec": {
   "display_name": "Python 3",
   "language": "python",
   "name": "python3"
  },
  "language_info": {
   "codemirror_mode": {
    "name": "ipython",
    "version": 3
   },
   "file_extension": ".py",
   "mimetype": "text/x-python",
   "name": "python",
   "nbconvert_exporter": "python",
   "pygments_lexer": "ipython3",
   "version": "3.6.9"
  }
 },
 "nbformat": 4,
 "nbformat_minor": 2
}
