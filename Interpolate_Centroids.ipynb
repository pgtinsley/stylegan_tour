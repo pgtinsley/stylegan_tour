{
 "cells": [
  {
   "cell_type": "code",
   "execution_count": 4,
   "metadata": {},
   "outputs": [],
   "source": [
    "# First things first...\n",
    "\n",
    "import cv2\n",
    "import random\n",
    "import pandas as pd\n",
    "import statistics\n",
    "\n",
    "# Ignore warnings\n",
    "import warnings\n",
    "warnings.filterwarnings('ignore')\n",
    "\n",
    "# Taken from pretrained_example.py\n",
    "import os\n",
    "import pickle\n",
    "import PIL.Image\n",
    "import numpy as np\n",
    "import dnnlib\n",
    "import dnnlib.tflib as tflib\n",
    "import config\n",
    "from encoder.generator_model import Generator\n",
    "\n",
    "# Off-the-shelf recognizer\n",
    "import face_recognition\n",
    "\n",
    "# Plotting\n",
    "import matplotlib.pyplot as plt\n",
    "%matplotlib inline\n",
    "\n",
    "from PIL import Image, ImageDraw, ImageFont"
   ]
  },
  {
   "cell_type": "code",
   "execution_count": 5,
   "metadata": {},
   "outputs": [],
   "source": [
    "# Plot latent vectors of shape 18x512\n",
    "def generate_image(latent_vector):\n",
    "    latent_vector = latent_vector.reshape((1, 18, 512))\n",
    "    generator.set_dlatents(latent_vector)\n",
    "    img_array = generator.generate_images()[0]\n",
    "    img = PIL.Image.fromarray(img_array, 'RGB')\n",
    "#     return img.resize((1024, 1024))\n",
    "    return img.resize((512, 512))"
   ]
  },
  {
   "cell_type": "code",
   "execution_count": 6,
   "metadata": {},
   "outputs": [],
   "source": [
    "def setup():\n",
    "    tflib.init_tf()\n",
    "    # Load pre-trained network.\n",
    "    url = 'https://drive.google.com/uc?id=1MEGjdvVpUsu1jB4zrXZN7Y4kBBOzizDQ' # karras2019stylegan-ffhq-1024x1024.pkl\n",
    "    with dnnlib.util.open_url(url, cache_dir=config.cache_dir) as f:\n",
    "        _G, _D, Gs = pickle.load(f)\n",
    "    generator = Generator(Gs, batch_size=1, randomize_noise=False) # -- RUNNING >1 TIMES THROWS ERROR\n",
    "    fmt = dict(func=tflib.convert_images_to_uint8, nchw_to_nhwc=True)\n",
    "    return [_G, _D, Gs, generator, fmt]"
   ]
  },
  {
   "cell_type": "code",
   "execution_count": 7,
   "metadata": {},
   "outputs": [],
   "source": [
    "# Only run once.\n",
    "[_G, _D, Gs, generator, fmt] = setup()"
   ]
  },
  {
   "cell_type": "code",
   "execution_count": 8,
   "metadata": {},
   "outputs": [],
   "source": [
    "# # # # # # # #"
   ]
  },
  {
   "cell_type": "code",
   "execution_count": 9,
   "metadata": {},
   "outputs": [],
   "source": [
    "subjects = {}\n",
    "generated_images = os.listdir('./generated_images/')\n",
    "for fname in generated_images:\n",
    "    subject = fname.split('d')[0]\n",
    "    lr = np.load('./latent_representations/'+fname.split('.')[0] + '.npy')\n",
    "    if subject in subjects:\n",
    "        subjects[subject]['generated_images'].append(fname)\n",
    "        subjects[subject]['latent_representations'].append(lr)            \n",
    "    else:\n",
    "        subjects[subject] = {\n",
    "            'generated_images': [fname],\n",
    "            'latent_representations': [lr]\n",
    "        }\n",
    "    if len(subjects[subject]['latent_representations'])==4:\n",
    "        sum_lr = np.zeros((18,512))\n",
    "        for lr in subjects[subject]['latent_representations']:\n",
    "            sum_lr += lr            \n",
    "        subjects[subject]['latent_representations_mean'] = sum_lr/4"
   ]
  },
  {
   "cell_type": "code",
   "execution_count": 10,
   "metadata": {},
   "outputs": [
    {
     "data": {
      "text/plain": [
       "192"
      ]
     },
     "execution_count": 10,
     "metadata": {},
     "output_type": "execute_result"
    }
   ],
   "source": [
    "len(subjects)"
   ]
  },
  {
   "cell_type": "code",
   "execution_count": 11,
   "metadata": {},
   "outputs": [],
   "source": [
    "ensemble_sub1 = subjects['04261']"
   ]
  },
  {
   "cell_type": "code",
   "execution_count": 12,
   "metadata": {},
   "outputs": [],
   "source": [
    "ensemble_sub2 = subjects['02463']"
   ]
  },
  {
   "cell_type": "code",
   "execution_count": 13,
   "metadata": {},
   "outputs": [],
   "source": [
    "centroid1 = ensemble_sub1['latent_representations_mean']\n",
    "centroid2 = ensemble_sub2['latent_representations_mean']"
   ]
  },
  {
   "cell_type": "code",
   "execution_count": 14,
   "metadata": {},
   "outputs": [],
   "source": [
    "centroid_img1 = generate_image(centroid1)"
   ]
  },
  {
   "cell_type": "code",
   "execution_count": 15,
   "metadata": {},
   "outputs": [],
   "source": [
    "centroid_img2 = generate_image(centroid2)"
   ]
  },
  {
   "cell_type": "code",
   "execution_count": 16,
   "metadata": {},
   "outputs": [],
   "source": [
    "vec1_slim = np.reshape(centroid1, [1, centroid1.shape[0] * centroid1.shape[1]])\n",
    "vec2_slim = np.reshape(centroid2, [1, centroid2.shape[0] * centroid2.shape[1]])"
   ]
  },
  {
   "cell_type": "code",
   "execution_count": 17,
   "metadata": {},
   "outputs": [],
   "source": [
    "enc1 = face_recognition.face_encodings(np.array(centroid_img1))[0]\n",
    "enc2 = face_recognition.face_encodings(np.array(centroid_img2))[0]\n",
    "# enc1 = np.random.random(128)\n",
    "# enc2 = np.random.random(128)\n",
    "known_encodings = [enc1, enc2]"
   ]
  },
  {
   "cell_type": "code",
   "execution_count": 18,
   "metadata": {},
   "outputs": [],
   "source": [
    "images = []\n",
    "fr_distances = []"
   ]
  },
  {
   "cell_type": "code",
   "execution_count": 19,
   "metadata": {},
   "outputs": [],
   "source": [
    "steps = 60"
   ]
  },
  {
   "cell_type": "code",
   "execution_count": 20,
   "metadata": {},
   "outputs": [],
   "source": [
    "z = np.empty((steps, vec1_slim.shape[1]))   "
   ]
  },
  {
   "cell_type": "code",
   "execution_count": 149,
   "metadata": {},
   "outputs": [],
   "source": [
    "for i, alpha in enumerate(np.linspace(start=1.0, stop=0.0, num=steps)):\n",
    "\n",
    "    # Linearly interpolate.\n",
    "    z[i] = (alpha) * vec1_slim + (1.0-alpha) * vec2_slim\n",
    "\n",
    "    # Reshape interpolated vector, and get interpolated image.\n",
    "    curr_vec = np.reshape(z[i], [18, 512]) # back to original shape\n",
    "    curr_img = np.array(generate_image(curr_vec))\n",
    "\n",
    "    #curr_enc = face_recognition.face_encodings(curr_img)[0]\n",
    "    curr_enc = np.random.random(128)\n",
    "    fr_distance = face_recognition.face_distance(known_encodings, curr_enc)\n",
    "\n",
    "    images.append(np.array(curr_img))\n",
    "    fr_distances.append(fr_distance)"
   ]
  },
  {
   "cell_type": "code",
   "execution_count": 150,
   "metadata": {},
   "outputs": [],
   "source": [
    "s = images[0].shape\n",
    "steps = 60\n",
    "videowriter =  cv2.VideoWriter('./Interpolate_Centroids.avi', cv2.VideoWriter_fourcc(*'mp4v'), steps/10, (s[1], s[0]))\n",
    "for i in range(len(images)):\n",
    "    videowriter.write(images[i][...,::-1])\n",
    "videowriter.release()"
   ]
  },
  {
   "cell_type": "code",
   "execution_count": null,
   "metadata": {},
   "outputs": [],
   "source": []
  }
 ],
 "metadata": {
  "kernelspec": {
   "display_name": "Python 3",
   "language": "python",
   "name": "python3"
  },
  "language_info": {
   "codemirror_mode": {
    "name": "ipython",
    "version": 3
   },
   "file_extension": ".py",
   "mimetype": "text/x-python",
   "name": "python",
   "nbconvert_exporter": "python",
   "pygments_lexer": "ipython3",
   "version": "3.6.10"
  }
 },
 "nbformat": 4,
 "nbformat_minor": 2
}
