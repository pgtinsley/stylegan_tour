{
 "cells": [
  {
   "cell_type": "code",
   "execution_count": null,
   "metadata": {},
   "outputs": [],
   "source": [
    "# First things first...\n",
    "\n",
    "import cv2\n",
    "import random\n",
    "import pandas as pd\n",
    "import statistics\n",
    "\n",
    "# Ignore warnings\n",
    "import warnings\n",
    "warnings.filterwarnings('ignore')\n",
    "\n",
    "# Taken from pretrained_example.py\n",
    "import os\n",
    "import pickle\n",
    "import PIL.Image\n",
    "import numpy as np\n",
    "import dnnlib\n",
    "import dnnlib.tflib as tflib\n",
    "import config\n",
    "from encoder.generator_model import Generator\n",
    "\n",
    "# Off-the-shelf recognizer\n",
    "import face_recognition\n",
    "\n",
    "# Plotting\n",
    "# import matplotlib.pyplot as plt\n",
    "# %matplotlib inline\n",
    "\n",
    "from PIL import Image, ImageDraw, ImageFont"
   ]
  },
  {
   "cell_type": "code",
   "execution_count": null,
   "metadata": {},
   "outputs": [],
   "source": [
    "# Plot latent vectors of shape 18x512\n",
    "def generate_image(latent_vector):\n",
    "    latent_vector = latent_vector.reshape((1, 18, 512))\n",
    "    generator.set_dlatents(latent_vector)\n",
    "    img_array = generator.generate_images()[0]\n",
    "    img = PIL.Image.fromarray(img_array, 'RGB')\n",
    "    return img.resize((1024, 1024))"
   ]
  },
  {
   "cell_type": "code",
   "execution_count": null,
   "metadata": {},
   "outputs": [],
   "source": [
    "def setup():\n",
    "    tflib.init_tf()\n",
    "    # Load pre-trained network.\n",
    "    url = 'https://drive.google.com/uc?id=1MEGjdvVpUsu1jB4zrXZN7Y4kBBOzizDQ' # karras2019stylegan-ffhq-1024x1024.pkl\n",
    "    with dnnlib.util.open_url(url, cache_dir=config.cache_dir) as f:\n",
    "        _G, _D, Gs = pickle.load(f)\n",
    "    generator = Generator(Gs, batch_size=1, randomize_noise=False) # -- RUNNING >1 TIMES THROWS ERROR\n",
    "    fmt = dict(func=tflib.convert_images_to_uint8, nchw_to_nhwc=True)\n",
    "    return [_G, _D, Gs, generator, fmt]"
   ]
  },
  {
   "cell_type": "code",
   "execution_count": null,
   "metadata": {},
   "outputs": [],
   "source": [
    "# Only run once.\n",
    "[_G, _D, Gs, generator, fmt] = setup()"
   ]
  },
  {
   "cell_type": "code",
   "execution_count": null,
   "metadata": {},
   "outputs": [],
   "source": [
    "def interpolate(root1, root2, steps=60):\n",
    "\n",
    "    # Load and convert latent vectors.\n",
    "    vec1 = np.load('./latent_representations/'+root1+'_01.npy')\n",
    "    vec2 = np.load('./latent_representations/'+root2+'_01.npy')\n",
    "\n",
    "    vec1_slim = np.reshape(vec1, [1, vec1.shape[0] * vec1.shape[1]])\n",
    "    vec2_slim = np.reshape(vec2, [1, vec2.shape[0] * vec2.shape[1]])\n",
    "    \n",
    "    # print(vec1_slim.shape, vec2_slim.shape)\n",
    "    \n",
    "    # Load and learn encodings from raw images.  \n",
    "    img1 = face_recognition.load_image_file('./aligned_images/'+root1+'_01.png')\n",
    "    img2 = face_recognition.load_image_file('./aligned_images/'+root2+'_01.png')\n",
    "    \n",
    "    #enc1 = face_recognition.face_encodings(img1)[0]\n",
    "    #enc2 = face_recognition.face_encodings(img2)[0]\n",
    "    enc1 = np.random.random(128)\n",
    "    enc2 = np.random.random(128)\n",
    "    \n",
    "    known_encodings = [enc1, enc2]\n",
    "    \n",
    "    images = []\n",
    "    fr_distances = []\n",
    "    axis_means = []\n",
    "    \n",
    "    z = np.empty((steps, vec1_slim.shape[1]))   \n",
    "    for i, alpha in enumerate(np.linspace(start=1.0, stop=0.0, num=steps)):\n",
    "        \n",
    "        z[i] = (alpha) * vec1_slim + (1.0-alpha) * vec2_slim\n",
    "        \n",
    "        curr_vec = np.reshape(z[i], [18, 512]) # back to original shape\n",
    "        curr_img = np.array(generate_image(curr_vec))\n",
    "        \n",
    "        #curr_enc = face_recognition.face_encodings(curr_img)[0]\n",
    "        curr_enc = np.random.random(128)\n",
    "        fr_distance = face_recognition.face_distance(known_encodings, curr_enc)\n",
    "        \n",
    "        images.append(np.array(curr_img))\n",
    "        fr_distances.append(fr_distance)\n",
    "        axis_means.append(np.mean(curr_vec, axis=1))\n",
    "    \n",
    "    return_dict = {\n",
    "        'images': images,\n",
    "        'fr_distances': fr_distances,\n",
    "        'axis_means': axis_means,\n",
    "    }\n",
    "    \n",
    "    return return_dict"
   ]
  },
  {
   "cell_type": "code",
   "execution_count": null,
   "metadata": {},
   "outputs": [],
   "source": [
    "return_dict = interpolate('04557d14_hr', '04558d30_hr')"
   ]
  },
  {
   "cell_type": "code",
   "execution_count": null,
   "metadata": {},
   "outputs": [],
   "source": [
    "# Same-Subject\n",
    "# Get 3 combinations: hr1->hr2, lr1->lr2, hr1->lr1\n",
    "combos = [\n",
    "    ('04261d50_hr','04261d51_hr'),\n",
    "    ('04261d53_lr', '04261d52_lr'),\n",
    "    ('04261d50_hr', '04261d53_lr')\n",
    "]\n",
    "# 04261d53_lr_01.png # bad\n",
    "# 04261d52_lr_01.png\n",
    "# 04261d51_hr_01.png\n",
    "# 04261d50_hr_01.png\n",
    "for i, combo in enumerate(combos):\n",
    "    return_dict = interpolate(combo[0], combo[1])\n",
    "    # Save pkl\n",
    "    with open('./return_dict_ss_'+str(i)+'.pkl', 'wb') as f:\n",
    "        pickle.dump(return_dict, f)\n",
    "    # Save video\n",
    "    images = return_dict['images']\n",
    "    s = images[0].shape\n",
    "    steps = 60\n",
    "    videowriter =  cv2.VideoWriter('./video_ss_'+str(i)+'.avi', cv2.VideoWriter_fourcc(*'mp4v'), steps/10, (s[1], s[0]))\n",
    "    for i in range(len(images)):\n",
    "        videowriter.write(images[i][...,::-1])\n",
    "    videowriter.release()"
   ]
  },
  {
   "cell_type": "code",
   "execution_count": null,
   "metadata": {},
   "outputs": [],
   "source": [
    "# Inter-Subject\n",
    "# Get 3 combinations: hr1->hr2, lr1->lr2, hr1->lr2\n",
    "combos = [\n",
    "    ('04261d50_hr', '02463d214_hr'),\n",
    "    ('04261d53_lr', '02463d217_lr'),\n",
    "    ('04261d53_lr', '02463d214_hr')\n",
    "]\n",
    "for i, combo in enumerate(combos):\n",
    "    return_dict = interpolate(combo[0], combo[1])\n",
    "    # Save pkl\n",
    "    with open('./return_dict_is_'+str(i)+'.pkl', 'wb') as f:\n",
    "        pickle.dump(return_dict, f)\n",
    "    # Save video\n",
    "    images = return_dict['images']\n",
    "    s = images[0].shape\n",
    "    steps = 60\n",
    "    videowriter =  cv2.VideoWriter('./video_is_'+str(i)+'.avi', cv2.VideoWriter_fourcc(*'mp4v'), steps/10, (s[1], s[0]))\n",
    "    for i in range(len(images)):\n",
    "        videowriter.write(images[i][...,::-1])\n",
    "    videowriter.release()"
   ]
  },
  {
   "cell_type": "code",
   "execution_count": null,
   "metadata": {},
   "outputs": [],
   "source": [
    "## Interesting idea... what about if we compare the results of:\n",
    "# generated_image1 --> slide through 9216 SG feature space --> generated_image2\n",
    "# aligned_image1 --> slide through 1024x1024 feature space --> aligned_image2\n",
    "# generated_image1_slim --> slide through <9216 SG-slim feature space --> generated_image2_slim"
   ]
  }
 ],
 "metadata": {
  "kernelspec": {
   "display_name": "Python 3",
   "language": "python",
   "name": "python3"
  },
  "language_info": {
   "codemirror_mode": {
    "name": "ipython",
    "version": 3
   },
   "file_extension": ".py",
   "mimetype": "text/x-python",
   "name": "python",
   "nbconvert_exporter": "python",
   "pygments_lexer": "ipython3",
   "version": "3.6.9"
  }
 },
 "nbformat": 4,
 "nbformat_minor": 2
}
